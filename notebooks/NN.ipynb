{
 "cells": [
  {
   "cell_type": "markdown",
   "metadata": {},
   "source": [
    "# Neural Networks Fundamentals with PyTorch: From Regression to Classification\n",
    "\n",
    "**Mahmood Amintoosi, Spring 2024**\n",
    "Computer Science Dept, Ferdowsi University of Mashhad\n",
    "\n",
    "Original material adapted from [Tomas Beuzen's course](https://ubc-mds.github.io/DSCI_572_sup-learn-2)"
   ]
  },
  {
   "cell_type": "markdown",
   "metadata": {},
   "source": [
    "## Learning Objectives\n",
    "<hr>\n",
    "\n",
    "- Understand PyTorch tensors and their operations\n",
    "- Build and train neural networks for regression and classification\n",
    "- Implement logistic regression from scratch\n",
    "- Apply different activation functions in neural networks"
   ]
  },
  {
   "cell_type": "markdown",
   "metadata": {},
   "source": [
    "## Imports\n",
    "<hr>"
   ]
  },
  {
   "cell_type": "code",
   "execution_count": 13,
   "metadata": {},
   "outputs": [],
   "source": [
    "import numpy as np\n",
    "import pandas as pd\n",
    "import torch\n",
    "from torch import nn, optim\n",
    "from torch.utils.data import DataLoader, TensorDataset\n",
    "from sklearn.datasets import make_regression, make_circles, make_blobs, load_breast_cancer\n",
    "from sklearn.preprocessing import StandardScaler\n",
    "from sklearn.linear_model import LinearRegression, LogisticRegression\n",
    "from sklearn.model_selection import train_test_split\n",
    "# from sklearn.linear_model import LinearRegression\n",
    "from scipy.optimize import minimize\n",
    "import matplotlib.pyplot as plt\n",
    "%matplotlib inline"
   ]
  },
  {
   "cell_type": "markdown",
   "metadata": {},
   "source": [
    "## 1. PyTorch Tensors Basics\n",
    "<hr>\n",
    "\n",
    "PyTorch tensors are similar to NumPy arrays but with GPU support and automatic differentiation capabilities."
   ]
  },
  {
   "cell_type": "code",
   "execution_count": 14,
   "metadata": {},
   "outputs": [
    {
     "name": "stdout",
     "output_type": "stream",
     "text": [
      "Tensor z:\n",
      "tensor([1.9004, 2.2558, 3.9370])\n",
      "Shape: torch.Size([3])\n"
     ]
    }
   ],
   "source": [
    "# Creating tensors\n",
    "x = torch.tensor([1, 2, 3], dtype=torch.float32)\n",
    "y = torch.rand(2, 3)  # Random uniform tensor\n",
    "\n",
    "# Operations\n",
    "z = x + y[0]  # Broadcasting\n",
    "print(f\"Tensor z:\\n{z}\\nShape: {z.shape}\")"
   ]
  },
  {
   "cell_type": "markdown",
   "metadata": {},
   "source": [
    "## 2. Neural Networks for Regression\n",
    "<hr>"
   ]
  },
  {
   "cell_type": "code",
   "execution_count": 15,
   "metadata": {},
   "outputs": [
    {
     "name": "stdout",
     "output_type": "stream",
     "text": [
      "Epoch 0, Loss: 1706.2048\n",
      "Epoch 20, Loss: 910.1295\n",
      "Epoch 40, Loss: 506.3514\n",
      "Epoch 60, Loss: 299.8825\n",
      "Epoch 80, Loss: 193.5540\n"
     ]
    }
   ],
   "source": [
    "# Simple regression model\n",
    "class LinearRegression(nn.Module):\n",
    "    def __init__(self, input_size, output_size):\n",
    "        super().__init__()\n",
    "        self.linear = nn.Linear(input_size, output_size)\n",
    "\n",
    "    def forward(self, x):\n",
    "        return self.linear(x)\n",
    "\n",
    "# Create and train model\n",
    "X, y = make_regression(n_samples=100, n_features=1, noise=10, random_state=42)\n",
    "X_t = torch.tensor(X, dtype=torch.float32)\n",
    "y_t = torch.tensor(y, dtype=torch.float32)\n",
    "\n",
    "model = LinearRegression(1, 1)\n",
    "criterion = nn.MSELoss()\n",
    "optimizer = torch.optim.SGD(model.parameters(), lr=0.01)\n",
    "\n",
    "# Training loop\n",
    "for epoch in range(100):\n",
    "    optimizer.zero_grad()\n",
    "    outputs = model(X_t)\n",
    "    loss = criterion(outputs.flatten(), y_t)\n",
    "    loss.backward()\n",
    "    optimizer.step()\n",
    "    \n",
    "    if epoch % 20 == 0:\n",
    "        print(f'Epoch {epoch}, Loss: {loss.item():.4f}')"
   ]
  },
  {
   "cell_type": "markdown",
   "metadata": {},
   "source": [
    "## 3. Logistic Regression from Scratch\n",
    "<hr>\n",
    "\n",
    "We'll implement logistic regression using the Breast Cancer dataset."
   ]
  },
  {
   "cell_type": "code",
   "execution_count": 16,
   "metadata": {},
   "outputs": [
    {
     "name": "stdout",
     "output_type": "stream",
     "text": [
      "Our intercept: -1.4675, Sklearn: 0.2209\n",
      "Our coefs mean: -0.8334, Sklearn: -0.4004\n"
     ]
    },
    {
     "name": "stderr",
     "output_type": "stream",
     "text": [
      "C:\\Users\\m.amintoosi\\AppData\\Local\\Temp\\ipykernel_12492\\2162866766.py:16: RuntimeWarning: divide by zero encountered in log\n",
      "  return -(y * np.log(p) + (1-y) * np.log(1-p)).mean()\n",
      "C:\\Users\\m.amintoosi\\AppData\\Local\\Temp\\ipykernel_12492\\2162866766.py:16: RuntimeWarning: invalid value encountered in multiply\n",
      "  return -(y * np.log(p) + (1-y) * np.log(1-p)).mean()\n",
      "C:\\Users\\m.amintoosi\\AppData\\Local\\Temp\\ipykernel_12492\\2162866766.py:16: RuntimeWarning: divide by zero encountered in log\n",
      "  return -(y * np.log(p) + (1-y) * np.log(1-p)).mean()\n",
      "C:\\Users\\m.amintoosi\\AppData\\Local\\Temp\\ipykernel_12492\\2162866766.py:16: RuntimeWarning: invalid value encountered in multiply\n",
      "  return -(y * np.log(p) + (1-y) * np.log(1-p)).mean()\n"
     ]
    }
   ],
   "source": [
    "# Load dataset\n",
    "data = load_breast_cancer()\n",
    "X, y = data.data, data.target\n",
    "X = StandardScaler().fit_transform(X)\n",
    "\n",
    "# Add intercept term\n",
    "X = np.hstack([np.ones((X.shape[0], 1)), X])\n",
    "\n",
    "# Sigmoid function\n",
    "def sigmoid(z):\n",
    "    return 1 / (1 + np.exp(-z))\n",
    "\n",
    "# Logistic loss\n",
    "def logistic_loss(w, X, y):\n",
    "    p = sigmoid(X @ w)\n",
    "    return -(y * np.log(p) + (1-y) * np.log(1-p)).mean()\n",
    "\n",
    "# Gradient of logistic loss\n",
    "def logistic_grad(w, X, y):\n",
    "    return (X.T @ (sigmoid(X @ w) - y)) / len(X)\n",
    "\n",
    "# Optimize weights\n",
    "w_opt = minimize(logistic_loss, np.zeros(X.shape[1]), \n",
    "                 jac=logistic_grad, args=(X, y)).x\n",
    "\n",
    "# Compare with sklearn\n",
    "lr = LogisticRegression().fit(X[:, 1:], y)\n",
    "print(f\"Our intercept: {w_opt[0]:.4f}, Sklearn: {lr.intercept_[0]:.4f}\")\n",
    "print(f\"Our coefs mean: {w_opt[1:].mean():.4f}, Sklearn: {lr.coef_.mean():.4f}\")"
   ]
  },
  {
   "cell_type": "markdown",
   "metadata": {},
   "source": [
    "## 4. Neural Networks for Classification\n",
    "<hr>"
   ]
  },
  {
   "cell_type": "code",
   "execution_count": 17,
   "metadata": {},
   "outputs": [
    {
     "name": "stdout",
     "output_type": "stream",
     "text": [
      "Epoch 0, Loss: 0.7048\n",
      "Epoch 20, Loss: 0.4643\n",
      "Epoch 40, Loss: 0.2252\n",
      "Epoch 60, Loss: 0.1759\n",
      "Epoch 80, Loss: 0.1479\n"
     ]
    }
   ],
   "source": [
    "# Binary classification\n",
    "class BinaryClassifier(nn.Module):\n",
    "    def __init__(self, input_size, hidden_size):\n",
    "        super().__init__()\n",
    "        self.net = nn.Sequential(\n",
    "            nn.Linear(input_size, hidden_size),\n",
    "            nn.ReLU(),\n",
    "            nn.Linear(hidden_size, 1)\n",
    "        )\n",
    "\n",
    "    def forward(self, x):\n",
    "        return self.net(x)\n",
    "\n",
    "# Create dataset\n",
    "X, y = make_circles(n_samples=300, noise=0.1, factor=0.5, random_state=42)\n",
    "X_t = torch.tensor(X, dtype=torch.float32)\n",
    "y_t = torch.tensor(y, dtype=torch.float32)\n",
    "\n",
    "# Train model\n",
    "model = BinaryClassifier(2, 5)\n",
    "criterion = nn.BCEWithLogitsLoss()\n",
    "optimizer = torch.optim.Adam(model.parameters(), lr=0.1)\n",
    "\n",
    "for epoch in range(100):\n",
    "    optimizer.zero_grad()\n",
    "    outputs = model(X_t).flatten()\n",
    "    loss = criterion(outputs, y_t)\n",
    "    loss.backward()\n",
    "    optimizer.step()\n",
    "    \n",
    "    if epoch % 20 == 0:\n",
    "        print(f'Epoch {epoch}, Loss: {loss.item():.4f}')"
   ]
  },
  {
   "cell_type": "markdown",
   "metadata": {},
   "source": [
    "## 5. Key Takeaways\n",
    "<hr>\n",
    "\n",
    "1. PyTorch tensors are the building blocks for neural networks\n",
    "2. Neural networks consist of:\n",
    "   - Input layer (size determined by features)\n",
    "   - Hidden layers (with activation functions)\n",
    "   - Output layer (size determined by task)\n",
    "3. For classification:\n",
    "   - Binary: Use sigmoid activation with BCE loss\n",
    "   - Multiclass: Use softmax activation with cross-entropy loss\n",
    "4. Activation functions (ReLU, sigmoid, tanh) introduce non-linearity\n",
    "\n",
    "## 6. True/False Questions\n",
    "<hr>\n",
    "\n",
    "1. Neural networks can be used for both regression and classification. (True)\n",
    "2. The architecture of a neural network is a hyperparameter. (True)\n",
    "3. Feature weights in neural networks are directly interpretable like in linear models. (False)\n",
    "4. More layers always lead to better performance. (False)"
   ]
  }
 ],
 "metadata": {
  "kernelspec": {
   "display_name": "pth-gpu",
   "language": "python",
   "name": "python3"
  },
  "language_info": {
   "codemirror_mode": {
    "name": "ipython",
    "version": 3
   },
   "file_extension": ".py",
   "mimetype": "text/x-python",
   "name": "python",
   "nbconvert_exporter": "python",
   "pygments_lexer": "ipython3",
   "version": "3.10.16"
  }
 },
 "nbformat": 4,
 "nbformat_minor": 4
}
