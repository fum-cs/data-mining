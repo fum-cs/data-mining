{
 "cells": [
  {
   "cell_type": "code",
   "execution_count": null,
   "id": "f27dce17",
   "metadata": {},
   "outputs": [],
   "source": []
  },
  {
   "cell_type": "code",
   "execution_count": null,
   "id": "a78ff8e7",
   "metadata": {},
   "outputs": [],
   "source": [
    "# !pip install nbconvert"
   ]
  },
  {
   "cell_type": "code",
   "execution_count": null,
   "id": "fb5d8271",
   "metadata": {},
   "outputs": [],
   "source": [
    "import os\n",
    "from nbconvert import MarkdownExporter\n",
    "import nbformat\n",
    "\n",
    "def convert_ipynb_to_md(notebook_path, output_dir):\n",
    "    \"\"\"Convert a single Jupyter Notebook to Markdown\"\"\"\n",
    "    with open(notebook_path, 'r', encoding='utf-8') as f:\n",
    "        nb = nbformat.read(f, as_version=4)\n",
    "    \n",
    "    exporter = MarkdownExporter()\n",
    "    body, _ = exporter.from_notebook_node(nb)\n",
    "    \n",
    "    md_path = os.path.join(\n",
    "        output_dir,\n",
    "        os.path.splitext(os.path.basename(notebook_path))[0] + '.md'\n",
    "    )\n",
    "    \n",
    "    with open(md_path, 'w', encoding='utf-8') as f:\n",
    "        f.write(body)\n",
    "    return md_path\n",
    "\n",
    "# Convert all notebooks in a directory\n",
    "notebooks_dir = \"D:/git/fum-cs/data-mining/notebooks\"\n",
    "output_dir = \"D:/git/fum-cs/data-mining/markdown_output\"\n",
    "\n",
    "os.makedirs(output_dir, exist_ok=True)\n",
    "\n",
    "for notebook_file in os.listdir(notebooks_dir):\n",
    "    if notebook_file.endswith(\".ipynb\"):\n",
    "        notebook_path = os.path.join(notebooks_dir, notebook_file)\n",
    "        try:\n",
    "            md_file = convert_ipynb_to_md(notebook_path, output_dir)\n",
    "            print(f\"✅ Converted {notebook_file} to {os.path.basename(md_file)}\")\n",
    "        except Exception as e:\n",
    "            print(f\"❌ Failed to convert {notebook_file}: {str(e)}\")"
   ]
  }
 ],
 "metadata": {
  "kernelspec": {
   "display_name": "Python 3",
   "language": "python",
   "name": "python3"
  },
  "language_info": {
   "codemirror_mode": {
    "name": "ipython",
    "version": 3
   },
   "file_extension": ".py",
   "mimetype": "text/x-python",
   "name": "python",
   "nbconvert_exporter": "python",
   "pygments_lexer": "ipython3",
   "version": "3.10.16"
  }
 },
 "nbformat": 4,
 "nbformat_minor": 5
}
