{
 "cells": [
  {
   "cell_type": "markdown",
   "metadata": {},
   "source": [
    "# Machine Learning"
   ]
  },
  {
   "cell_type": "markdown",
   "metadata": {},
   "source": [
    "This final part is an introduction to the very broad topic of machine learning, mainly via Python's [Scikit-Learn](http://scikit-learn.org) package.\n",
    "You can think of machine learning as a class of algorithms that allow a program to detect particular patterns in a dataset, and thus \"learn\" from the data to draw inferences from it.\n",
    "This is not meant to be a comprehensive introduction to the field of machine learning; that is a large subject and necessitates a more technical approach than we take here.\n",
    "Nor is it meant to be a comprehensive manual for the use of the Scikit-Learn package (for this, you can refer to the resources listed in the first page of the course.\n",
    "Rather, the goals here are:\n",
    "\n",
    "- To introduce the fundamental vocabulary and concepts of machine learning\n",
    "- To introduce the Scikit-Learn API and show some examples of its use\n",
    "- To take a deeper dive into the details of several of the more important classical machine learning approaches, and develop an intuition into how they work and when and where they are applicable\n",
    "\n",
    "Much of this material is drawn from the Scikit-Learn tutorials and workshops I have given on several occasions at PyCon, SciPy, PyData, and other conferences.\n",
    "Any clarity in the following pages is likely due to the many workshop participants and co-instructors who have given me valuable feedback on this material over the years!"
   ]
  },
  {
   "cell_type": "markdown",
   "metadata": {},
   "source": [
    "## A list of machine learning methods\n",
    "\n",
    "### 1. Supervised Learning  \n",
    "#### Classification  \n",
    "- Linear Models: Logistic Regression, Perceptron  \n",
    "- Tree-Based: Decision Tree (CART, ID3, C4.5), Random Forest, Gradient Boosting (XGBoost, LightGBM, CatBoost)  \n",
    "- Kernel-Based: SVM (Linear/RBF/Poly Kernels), Kernel Logistic Regression  \n",
    "- Probabilistic: Naïve Bayes (Gaussian, Multinomial), Bayesian Networks  \n",
    "- Neural Networks: MLP, CNN (for structured data), Transformers (e.g., BERT for text)  \n",
    "\n",
    "#### Regression  \n",
    "- Linear: Linear Regression, Ridge (L2), Lasso (L1), Elastic Net (L1+L2)  \n",
    "- Nonlinear: Polynomial Regression, SVR (Support Vector Regression), Gaussian Processes  \n",
    "- Tree-Based: Regression Trees, Random Forest Regressor, XGBoost Regressor  \n",
    "\n",
    "#### Evaluation Metrics  \n",
    "- Classification: Accuracy, Precision/Recall, F1-Score, ROC-AUC, Log-Loss  \n",
    "- Regression: MSE, RMSE, MAE, R², Adjusted R²  \n",
    "\n",
    "---\n",
    "\n",
    "### 2. Unsupervised Learning  \n",
    "#### Clustering  \n",
    "- Centroid-Based: K-Means (K-Means++), K-Medoids (PAM), Fuzzy C-Means  \n",
    "- Hierarchical: Agglomerative (Single/Linkage), Divisive  \n",
    "- Density-Based: DBSCAN (OPTICS, HDBSCAN)  \n",
    "- Distribution-Based: Gaussian Mixture Models (GMM)  \n",
    "- Spectral Clustering: Graph-cut methods (e.g., Normalized Cuts)  \n",
    "\n",
    "#### Dimensionality Reduction  \n",
    "- Linear: PCA, Factor Analysis  \n",
    "- Nonlinear: t-SNE, UMAP, Autoencoders (Variational, Denoising)  \n",
    "\n",
    "#### Association Rules  \n",
    "- Apriori, FP-Growth, Eclat  \n",
    "\n",
    "#### Evaluation Metrics  \n",
    "- Clustering: Silhouette Score, Davies-Bouldin Index, Calinski-Harabasz Index  \n",
    "- Dimensionality Reduction: Reconstruction Error (for autoencoders), Explained Variance (PCA)  \n",
    "\n",
    "---\n",
    "\n",
    "### 3. Semi-Supervised Learning  \n",
    "- Self-Training: Iterative labeling (e.g., Yarowsky Algorithm)  \n",
    "- Graph-Based: Label Propagation, Laplacian SVM  \n",
    "- Deep Learning: Semi-Supervised GANs (e.g., SGAN), Pseudo-Labeling  \n",
    "- Co-Training: Multi-view learning  \n",
    "\n",
    "#### Evaluation Metrics  \n",
    "- Adjusted Rand Index (if ground truth is partially known), Purity  \n",
    "\n",
    "---\n",
    "\n",
    "### 4. Self-Supervised Learning (Emerging)  \n",
    "- Pretext Tasks: RotNet, Masked Autoencoders (e.g., BERT, MAE)  \n",
    "- Contrastive Learning: SimCLR, MoCo, BYOL  \n",
    "- Applications: Pretraining for NLP/CV (e.g., GPT, Vision Transformers)  \n",
    "\n",
    "---\n",
    "\n",
    "### Key Notes:  \n",
    "1. Scope: This is a *subset* of ML methods; real-world projects often combine techniques (e.g., PCA + K-Means).  \n",
    "2. Choice Depends On: Data type (tabular, image, text), problem goals, and computational resources.  \n",
    "3. Evaluation: Always match metrics to the task (e.g., Silhouette for clustering, F1 for imbalanced classification).  \n"
   ]
  }
 ],
 "metadata": {
  "anaconda-cloud": {},
  "jupytext": {
   "formats": "ipynb,md"
  },
  "kernelspec": {
   "display_name": "Python 3 (ipykernel)",
   "language": "python",
   "name": "python3"
  },
  "language_info": {
   "codemirror_mode": {
    "name": "ipython",
    "version": 3
   },
   "file_extension": ".py",
   "mimetype": "text/x-python",
   "name": "python",
   "nbconvert_exporter": "python",
   "pygments_lexer": "ipython3",
   "version": "3.9.2"
  }
 },
 "nbformat": 4,
 "nbformat_minor": 4
}
